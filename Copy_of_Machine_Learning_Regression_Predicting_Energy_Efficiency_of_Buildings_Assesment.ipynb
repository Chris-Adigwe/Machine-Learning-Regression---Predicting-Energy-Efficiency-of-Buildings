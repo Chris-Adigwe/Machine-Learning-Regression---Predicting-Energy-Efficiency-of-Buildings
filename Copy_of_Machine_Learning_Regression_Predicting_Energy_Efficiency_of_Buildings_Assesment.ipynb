{
  "cells": [
    {
      "cell_type": "markdown",
      "metadata": {
        "id": "view-in-github",
        "colab_type": "text"
      },
      "source": [
        "<a href=\"https://colab.research.google.com/github/Chris-Adigwe/Machine-Learning-Regression---Predicting-Energy-Efficiency-of-Buildings/blob/master/Copy_of_Machine_Learning_Regression_Predicting_Energy_Efficiency_of_Buildings_Assesment.ipynb\" target=\"_parent\"><img src=\"https://colab.research.google.com/assets/colab-badge.svg\" alt=\"Open In Colab\"/></a>"
      ]
    },
    {
      "cell_type": "code",
      "execution_count": null,
      "id": "f9bb0c3a",
      "metadata": {
        "id": "f9bb0c3a"
      },
      "outputs": [],
      "source": [
        "import pandas as pd\n",
        "import seaborn as sns\n",
        "import os\n",
        "import numpy as np"
      ]
    },
    {
      "cell_type": "code",
      "execution_count": null,
      "id": "b9cef010",
      "metadata": {
        "colab": {
          "base_uri": "https://localhost:8080/",
          "height": 37
        },
        "id": "b9cef010",
        "outputId": "eb637a90-5fab-43f3-be0c-0196324acd01"
      },
      "outputs": [
        {
          "output_type": "execute_result",
          "data": {
            "application/vnd.google.colaboratory.intrinsic+json": {
              "type": "string"
            },
            "text/plain": [
              "'/content'"
            ]
          },
          "metadata": {},
          "execution_count": 2
        }
      ],
      "source": [
        "pwd"
      ]
    },
    {
      "cell_type": "code",
      "execution_count": null,
      "id": "3c6bcb3f",
      "metadata": {
        "colab": {
          "base_uri": "https://localhost:8080/"
        },
        "id": "3c6bcb3f",
        "outputId": "4c5103b8-dc1b-44b4-e5f6-9528c93bbca9"
      },
      "outputs": [
        {
          "output_type": "stream",
          "name": "stdout",
          "text": [
            "/\n"
          ]
        }
      ],
      "source": [
        "cd .."
      ]
    },
    {
      "cell_type": "code",
      "execution_count": null,
      "id": "6b3e8bc1",
      "metadata": {
        "colab": {
          "base_uri": "https://localhost:8080/"
        },
        "id": "6b3e8bc1",
        "outputId": "5e334041-6223-4a1b-f0de-7d42929f7dca"
      },
      "outputs": [
        {
          "output_type": "stream",
          "name": "stdout",
          "text": [
            "/\n"
          ]
        }
      ],
      "source": [
        "cd .."
      ]
    },
    {
      "cell_type": "code",
      "execution_count": null,
      "id": "244f3ee4",
      "metadata": {
        "colab": {
          "base_uri": "https://localhost:8080/"
        },
        "id": "244f3ee4",
        "outputId": "6cde630a-5eff-4e50-aa27-90a9b690465c"
      },
      "outputs": [
        {
          "output_type": "execute_result",
          "data": {
            "text/plain": [
              "['lib',\n",
              " 'tmp',\n",
              " 'media',\n",
              " 'dev',\n",
              " 'home',\n",
              " 'boot',\n",
              " 'etc',\n",
              " 'bin',\n",
              " 'lib64',\n",
              " 'run',\n",
              " 'mnt',\n",
              " 'sbin',\n",
              " 'var',\n",
              " 'root',\n",
              " 'usr',\n",
              " 'proc',\n",
              " 'sys',\n",
              " 'srv',\n",
              " 'opt',\n",
              " '.dockerenv',\n",
              " 'tools',\n",
              " 'datalab',\n",
              " 'tensorflow-1.15.2',\n",
              " 'content',\n",
              " 'lib32',\n",
              " 'python-apt']"
            ]
          },
          "metadata": {},
          "execution_count": 5
        }
      ],
      "source": [
        "os.listdir()"
      ]
    },
    {
      "cell_type": "code",
      "execution_count": null,
      "id": "dda18a0d",
      "metadata": {
        "id": "dda18a0d"
      },
      "outputs": [],
      "source": [
        "path = path = 'C:\\\\Users\\\\USER\\\\Desktop\\\\Hamoye\\\\Lesson 2 - regression'"
      ]
    },
    {
      "cell_type": "code",
      "execution_count": null,
      "id": "857f9ac9",
      "metadata": {
        "id": "857f9ac9"
      },
      "outputs": [],
      "source": [
        "os.chdir(path)"
      ]
    },
    {
      "cell_type": "code",
      "execution_count": null,
      "id": "3b9b52fb",
      "metadata": {
        "id": "3b9b52fb"
      },
      "outputs": [],
      "source": [
        "df = pd.read_csv('energydata_complete.csv')"
      ]
    },
    {
      "cell_type": "code",
      "execution_count": null,
      "id": "1995886a",
      "metadata": {
        "id": "1995886a",
        "outputId": "a698999d-c10f-42cc-f84d-56ddebca0eaa"
      },
      "outputs": [
        {
          "data": {
            "text/html": [
              "<div>\n",
              "<style scoped>\n",
              "    .dataframe tbody tr th:only-of-type {\n",
              "        vertical-align: middle;\n",
              "    }\n",
              "\n",
              "    .dataframe tbody tr th {\n",
              "        vertical-align: top;\n",
              "    }\n",
              "\n",
              "    .dataframe thead th {\n",
              "        text-align: right;\n",
              "    }\n",
              "</style>\n",
              "<table border=\"1\" class=\"dataframe\">\n",
              "  <thead>\n",
              "    <tr style=\"text-align: right;\">\n",
              "      <th></th>\n",
              "      <th>date</th>\n",
              "      <th>Appliances</th>\n",
              "      <th>lights</th>\n",
              "      <th>T1</th>\n",
              "      <th>RH_1</th>\n",
              "      <th>T2</th>\n",
              "      <th>RH_2</th>\n",
              "      <th>T3</th>\n",
              "      <th>RH_3</th>\n",
              "      <th>T4</th>\n",
              "      <th>...</th>\n",
              "      <th>T9</th>\n",
              "      <th>RH_9</th>\n",
              "      <th>T_out</th>\n",
              "      <th>Press_mm_hg</th>\n",
              "      <th>RH_out</th>\n",
              "      <th>Windspeed</th>\n",
              "      <th>Visibility</th>\n",
              "      <th>Tdewpoint</th>\n",
              "      <th>rv1</th>\n",
              "      <th>rv2</th>\n",
              "    </tr>\n",
              "  </thead>\n",
              "  <tbody>\n",
              "    <tr>\n",
              "      <th>0</th>\n",
              "      <td>2016-01-11 17:00:00</td>\n",
              "      <td>60</td>\n",
              "      <td>30</td>\n",
              "      <td>19.89</td>\n",
              "      <td>47.596667</td>\n",
              "      <td>19.2</td>\n",
              "      <td>44.790000</td>\n",
              "      <td>19.79</td>\n",
              "      <td>44.730000</td>\n",
              "      <td>19.000000</td>\n",
              "      <td>...</td>\n",
              "      <td>17.033333</td>\n",
              "      <td>45.53</td>\n",
              "      <td>6.600000</td>\n",
              "      <td>733.5</td>\n",
              "      <td>92.0</td>\n",
              "      <td>7.000000</td>\n",
              "      <td>63.000000</td>\n",
              "      <td>5.3</td>\n",
              "      <td>13.275433</td>\n",
              "      <td>13.275433</td>\n",
              "    </tr>\n",
              "    <tr>\n",
              "      <th>1</th>\n",
              "      <td>2016-01-11 17:10:00</td>\n",
              "      <td>60</td>\n",
              "      <td>30</td>\n",
              "      <td>19.89</td>\n",
              "      <td>46.693333</td>\n",
              "      <td>19.2</td>\n",
              "      <td>44.722500</td>\n",
              "      <td>19.79</td>\n",
              "      <td>44.790000</td>\n",
              "      <td>19.000000</td>\n",
              "      <td>...</td>\n",
              "      <td>17.066667</td>\n",
              "      <td>45.56</td>\n",
              "      <td>6.483333</td>\n",
              "      <td>733.6</td>\n",
              "      <td>92.0</td>\n",
              "      <td>6.666667</td>\n",
              "      <td>59.166667</td>\n",
              "      <td>5.2</td>\n",
              "      <td>18.606195</td>\n",
              "      <td>18.606195</td>\n",
              "    </tr>\n",
              "    <tr>\n",
              "      <th>2</th>\n",
              "      <td>2016-01-11 17:20:00</td>\n",
              "      <td>50</td>\n",
              "      <td>30</td>\n",
              "      <td>19.89</td>\n",
              "      <td>46.300000</td>\n",
              "      <td>19.2</td>\n",
              "      <td>44.626667</td>\n",
              "      <td>19.79</td>\n",
              "      <td>44.933333</td>\n",
              "      <td>18.926667</td>\n",
              "      <td>...</td>\n",
              "      <td>17.000000</td>\n",
              "      <td>45.50</td>\n",
              "      <td>6.366667</td>\n",
              "      <td>733.7</td>\n",
              "      <td>92.0</td>\n",
              "      <td>6.333333</td>\n",
              "      <td>55.333333</td>\n",
              "      <td>5.1</td>\n",
              "      <td>28.642668</td>\n",
              "      <td>28.642668</td>\n",
              "    </tr>\n",
              "    <tr>\n",
              "      <th>3</th>\n",
              "      <td>2016-01-11 17:30:00</td>\n",
              "      <td>50</td>\n",
              "      <td>40</td>\n",
              "      <td>19.89</td>\n",
              "      <td>46.066667</td>\n",
              "      <td>19.2</td>\n",
              "      <td>44.590000</td>\n",
              "      <td>19.79</td>\n",
              "      <td>45.000000</td>\n",
              "      <td>18.890000</td>\n",
              "      <td>...</td>\n",
              "      <td>17.000000</td>\n",
              "      <td>45.40</td>\n",
              "      <td>6.250000</td>\n",
              "      <td>733.8</td>\n",
              "      <td>92.0</td>\n",
              "      <td>6.000000</td>\n",
              "      <td>51.500000</td>\n",
              "      <td>5.0</td>\n",
              "      <td>45.410389</td>\n",
              "      <td>45.410389</td>\n",
              "    </tr>\n",
              "    <tr>\n",
              "      <th>4</th>\n",
              "      <td>2016-01-11 17:40:00</td>\n",
              "      <td>60</td>\n",
              "      <td>40</td>\n",
              "      <td>19.89</td>\n",
              "      <td>46.333333</td>\n",
              "      <td>19.2</td>\n",
              "      <td>44.530000</td>\n",
              "      <td>19.79</td>\n",
              "      <td>45.000000</td>\n",
              "      <td>18.890000</td>\n",
              "      <td>...</td>\n",
              "      <td>17.000000</td>\n",
              "      <td>45.40</td>\n",
              "      <td>6.133333</td>\n",
              "      <td>733.9</td>\n",
              "      <td>92.0</td>\n",
              "      <td>5.666667</td>\n",
              "      <td>47.666667</td>\n",
              "      <td>4.9</td>\n",
              "      <td>10.084097</td>\n",
              "      <td>10.084097</td>\n",
              "    </tr>\n",
              "  </tbody>\n",
              "</table>\n",
              "<p>5 rows × 29 columns</p>\n",
              "</div>"
            ],
            "text/plain": [
              "                  date  Appliances  lights     T1       RH_1    T2       RH_2  \\\n",
              "0  2016-01-11 17:00:00          60      30  19.89  47.596667  19.2  44.790000   \n",
              "1  2016-01-11 17:10:00          60      30  19.89  46.693333  19.2  44.722500   \n",
              "2  2016-01-11 17:20:00          50      30  19.89  46.300000  19.2  44.626667   \n",
              "3  2016-01-11 17:30:00          50      40  19.89  46.066667  19.2  44.590000   \n",
              "4  2016-01-11 17:40:00          60      40  19.89  46.333333  19.2  44.530000   \n",
              "\n",
              "      T3       RH_3         T4  ...         T9   RH_9     T_out  Press_mm_hg  \\\n",
              "0  19.79  44.730000  19.000000  ...  17.033333  45.53  6.600000        733.5   \n",
              "1  19.79  44.790000  19.000000  ...  17.066667  45.56  6.483333        733.6   \n",
              "2  19.79  44.933333  18.926667  ...  17.000000  45.50  6.366667        733.7   \n",
              "3  19.79  45.000000  18.890000  ...  17.000000  45.40  6.250000        733.8   \n",
              "4  19.79  45.000000  18.890000  ...  17.000000  45.40  6.133333        733.9   \n",
              "\n",
              "   RH_out  Windspeed  Visibility  Tdewpoint        rv1        rv2  \n",
              "0    92.0   7.000000   63.000000        5.3  13.275433  13.275433  \n",
              "1    92.0   6.666667   59.166667        5.2  18.606195  18.606195  \n",
              "2    92.0   6.333333   55.333333        5.1  28.642668  28.642668  \n",
              "3    92.0   6.000000   51.500000        5.0  45.410389  45.410389  \n",
              "4    92.0   5.666667   47.666667        4.9  10.084097  10.084097  \n",
              "\n",
              "[5 rows x 29 columns]"
            ]
          },
          "execution_count": 34,
          "metadata": {},
          "output_type": "execute_result"
        }
      ],
      "source": [
        "df.head()"
      ]
    },
    {
      "cell_type": "code",
      "execution_count": null,
      "id": "442641cf",
      "metadata": {
        "id": "442641cf",
        "outputId": "7208afb2-0b67-4341-e834-529243f65371"
      },
      "outputs": [
        {
          "data": {
            "text/plain": [
              "Index(['date', 'Appliances', 'lights', 'T1', 'RH_1', 'T2', 'RH_2', 'T3',\n",
              "       'RH_3', 'T4', 'RH_4', 'T5', 'RH_5', 'T6', 'RH_6', 'T7', 'RH_7', 'T8',\n",
              "       'RH_8', 'T9', 'RH_9', 'T_out', 'Press_mm_hg', 'RH_out', 'Windspeed',\n",
              "       'Visibility', 'Tdewpoint', 'rv1', 'rv2'],\n",
              "      dtype='object')"
            ]
          },
          "execution_count": 35,
          "metadata": {},
          "output_type": "execute_result"
        }
      ],
      "source": [
        "df.columns"
      ]
    },
    {
      "cell_type": "code",
      "execution_count": null,
      "id": "c809b006",
      "metadata": {
        "id": "c809b006"
      },
      "outputs": [],
      "source": [
        "os.chdir(path)"
      ]
    },
    {
      "cell_type": "code",
      "execution_count": null,
      "id": "c25a5fbf",
      "metadata": {
        "id": "c25a5fbf",
        "outputId": "0520fea6-85a9-4f2e-fb7f-365d5770633f"
      },
      "outputs": [
        {
          "data": {
            "text/plain": [
              "'C:\\\\Users\\\\USER\\\\Desktop\\\\Hamoye'"
            ]
          },
          "execution_count": 18,
          "metadata": {},
          "output_type": "execute_result"
        }
      ],
      "source": [
        "pwd"
      ]
    },
    {
      "cell_type": "code",
      "execution_count": null,
      "id": "8a9b9fcc",
      "metadata": {
        "id": "8a9b9fcc"
      },
      "outputs": [],
      "source": [
        "x = df['T2']\n",
        "y = df['T6']"
      ]
    },
    {
      "cell_type": "code",
      "execution_count": null,
      "id": "db8498c2",
      "metadata": {
        "id": "db8498c2"
      },
      "outputs": [],
      "source": [
        "from sklearn.linear_model import LinearRegression\n",
        "\n",
        "model = LinearRegression()"
      ]
    },
    {
      "cell_type": "code",
      "execution_count": null,
      "id": "d347ef02",
      "metadata": {
        "id": "d347ef02"
      },
      "outputs": [],
      "source": [
        "x = np.array(x).reshape(-1,1)\n",
        "y = np.array(y)"
      ]
    },
    {
      "cell_type": "code",
      "execution_count": null,
      "id": "a5782bf2",
      "metadata": {
        "id": "a5782bf2",
        "outputId": "a7fed09a-886b-4159-9131-1538a0a258e2"
      },
      "outputs": [
        {
          "data": {
            "text/plain": [
              "LinearRegression()"
            ]
          },
          "execution_count": 117,
          "metadata": {},
          "output_type": "execute_result"
        }
      ],
      "source": [
        "model.fit(x, y)"
      ]
    },
    {
      "cell_type": "code",
      "execution_count": null,
      "id": "f44c9231",
      "metadata": {
        "id": "f44c9231",
        "outputId": "22c8b0d2-6822-45ed-bfe4-54d43a14cb35"
      },
      "outputs": [
        {
          "data": {
            "text/plain": [
              "-3.72"
            ]
          },
          "execution_count": 118,
          "metadata": {},
          "output_type": "execute_result"
        }
      ],
      "source": [
        "from sklearn.metrics import r2_score\n",
        "\n",
        "r_square = r2_score(y, x)\n",
        "round(r_square, 2)"
      ]
    },
    {
      "cell_type": "code",
      "execution_count": null,
      "id": "6fc2d1aa",
      "metadata": {
        "id": "6fc2d1aa"
      },
      "outputs": [],
      "source": [
        "from sklearn.preprocessing import MinMaxScaler\n",
        "scaler = MinMaxScaler()"
      ]
    },
    {
      "cell_type": "code",
      "execution_count": null,
      "id": "002836a7",
      "metadata": {
        "id": "002836a7"
      },
      "outputs": [],
      "source": [
        "df.drop(['date', 'lights'], axis='columns', inplace=True)"
      ]
    },
    {
      "cell_type": "code",
      "execution_count": null,
      "id": "11188fa6",
      "metadata": {
        "id": "11188fa6"
      },
      "outputs": [],
      "source": [
        "normalised_df = pd.DataFrame(scaler.fit_transform(df),columns=df.columns)"
      ]
    },
    {
      "cell_type": "code",
      "execution_count": null,
      "id": "91137585",
      "metadata": {
        "id": "91137585",
        "outputId": "6484869d-a24a-4b77-fa8e-23c2fc548131"
      },
      "outputs": [
        {
          "data": {
            "text/html": [
              "<div>\n",
              "<style scoped>\n",
              "    .dataframe tbody tr th:only-of-type {\n",
              "        vertical-align: middle;\n",
              "    }\n",
              "\n",
              "    .dataframe tbody tr th {\n",
              "        vertical-align: top;\n",
              "    }\n",
              "\n",
              "    .dataframe thead th {\n",
              "        text-align: right;\n",
              "    }\n",
              "</style>\n",
              "<table border=\"1\" class=\"dataframe\">\n",
              "  <thead>\n",
              "    <tr style=\"text-align: right;\">\n",
              "      <th></th>\n",
              "      <th>Appliances</th>\n",
              "      <th>T1</th>\n",
              "      <th>RH_1</th>\n",
              "      <th>T2</th>\n",
              "      <th>RH_2</th>\n",
              "      <th>T3</th>\n",
              "      <th>RH_3</th>\n",
              "      <th>T4</th>\n",
              "      <th>RH_4</th>\n",
              "      <th>T5</th>\n",
              "      <th>...</th>\n",
              "      <th>T9</th>\n",
              "      <th>RH_9</th>\n",
              "      <th>T_out</th>\n",
              "      <th>Press_mm_hg</th>\n",
              "      <th>RH_out</th>\n",
              "      <th>Windspeed</th>\n",
              "      <th>Visibility</th>\n",
              "      <th>Tdewpoint</th>\n",
              "      <th>rv1</th>\n",
              "      <th>rv2</th>\n",
              "    </tr>\n",
              "  </thead>\n",
              "  <tbody>\n",
              "    <tr>\n",
              "      <th>0</th>\n",
              "      <td>0.046729</td>\n",
              "      <td>0.327350</td>\n",
              "      <td>0.566187</td>\n",
              "      <td>0.225345</td>\n",
              "      <td>0.684038</td>\n",
              "      <td>0.215188</td>\n",
              "      <td>0.746066</td>\n",
              "      <td>0.351351</td>\n",
              "      <td>0.764262</td>\n",
              "      <td>0.175506</td>\n",
              "      <td>...</td>\n",
              "      <td>0.223032</td>\n",
              "      <td>0.677290</td>\n",
              "      <td>0.372990</td>\n",
              "      <td>0.097674</td>\n",
              "      <td>0.894737</td>\n",
              "      <td>0.500000</td>\n",
              "      <td>0.953846</td>\n",
              "      <td>0.538462</td>\n",
              "      <td>0.265449</td>\n",
              "      <td>0.265449</td>\n",
              "    </tr>\n",
              "    <tr>\n",
              "      <th>1</th>\n",
              "      <td>0.046729</td>\n",
              "      <td>0.327350</td>\n",
              "      <td>0.541326</td>\n",
              "      <td>0.225345</td>\n",
              "      <td>0.682140</td>\n",
              "      <td>0.215188</td>\n",
              "      <td>0.748871</td>\n",
              "      <td>0.351351</td>\n",
              "      <td>0.782437</td>\n",
              "      <td>0.175506</td>\n",
              "      <td>...</td>\n",
              "      <td>0.226500</td>\n",
              "      <td>0.678532</td>\n",
              "      <td>0.369239</td>\n",
              "      <td>0.100000</td>\n",
              "      <td>0.894737</td>\n",
              "      <td>0.476190</td>\n",
              "      <td>0.894872</td>\n",
              "      <td>0.533937</td>\n",
              "      <td>0.372083</td>\n",
              "      <td>0.372083</td>\n",
              "    </tr>\n",
              "    <tr>\n",
              "      <th>2</th>\n",
              "      <td>0.037383</td>\n",
              "      <td>0.327350</td>\n",
              "      <td>0.530502</td>\n",
              "      <td>0.225345</td>\n",
              "      <td>0.679445</td>\n",
              "      <td>0.215188</td>\n",
              "      <td>0.755569</td>\n",
              "      <td>0.344745</td>\n",
              "      <td>0.778062</td>\n",
              "      <td>0.175506</td>\n",
              "      <td>...</td>\n",
              "      <td>0.219563</td>\n",
              "      <td>0.676049</td>\n",
              "      <td>0.365488</td>\n",
              "      <td>0.102326</td>\n",
              "      <td>0.894737</td>\n",
              "      <td>0.452381</td>\n",
              "      <td>0.835897</td>\n",
              "      <td>0.529412</td>\n",
              "      <td>0.572848</td>\n",
              "      <td>0.572848</td>\n",
              "    </tr>\n",
              "    <tr>\n",
              "      <th>3</th>\n",
              "      <td>0.037383</td>\n",
              "      <td>0.327350</td>\n",
              "      <td>0.524080</td>\n",
              "      <td>0.225345</td>\n",
              "      <td>0.678414</td>\n",
              "      <td>0.215188</td>\n",
              "      <td>0.758685</td>\n",
              "      <td>0.341441</td>\n",
              "      <td>0.770949</td>\n",
              "      <td>0.175506</td>\n",
              "      <td>...</td>\n",
              "      <td>0.219563</td>\n",
              "      <td>0.671909</td>\n",
              "      <td>0.361736</td>\n",
              "      <td>0.104651</td>\n",
              "      <td>0.894737</td>\n",
              "      <td>0.428571</td>\n",
              "      <td>0.776923</td>\n",
              "      <td>0.524887</td>\n",
              "      <td>0.908261</td>\n",
              "      <td>0.908261</td>\n",
              "    </tr>\n",
              "    <tr>\n",
              "      <th>4</th>\n",
              "      <td>0.046729</td>\n",
              "      <td>0.327350</td>\n",
              "      <td>0.531419</td>\n",
              "      <td>0.225345</td>\n",
              "      <td>0.676727</td>\n",
              "      <td>0.215188</td>\n",
              "      <td>0.758685</td>\n",
              "      <td>0.341441</td>\n",
              "      <td>0.762697</td>\n",
              "      <td>0.178691</td>\n",
              "      <td>...</td>\n",
              "      <td>0.219563</td>\n",
              "      <td>0.671909</td>\n",
              "      <td>0.357985</td>\n",
              "      <td>0.106977</td>\n",
              "      <td>0.894737</td>\n",
              "      <td>0.404762</td>\n",
              "      <td>0.717949</td>\n",
              "      <td>0.520362</td>\n",
              "      <td>0.201611</td>\n",
              "      <td>0.201611</td>\n",
              "    </tr>\n",
              "    <tr>\n",
              "      <th>...</th>\n",
              "      <td>...</td>\n",
              "      <td>...</td>\n",
              "      <td>...</td>\n",
              "      <td>...</td>\n",
              "      <td>...</td>\n",
              "      <td>...</td>\n",
              "      <td>...</td>\n",
              "      <td>...</td>\n",
              "      <td>...</td>\n",
              "      <td>...</td>\n",
              "      <td>...</td>\n",
              "      <td>...</td>\n",
              "      <td>...</td>\n",
              "      <td>...</td>\n",
              "      <td>...</td>\n",
              "      <td>...</td>\n",
              "      <td>...</td>\n",
              "      <td>...</td>\n",
              "      <td>...</td>\n",
              "      <td>...</td>\n",
              "      <td>...</td>\n",
              "    </tr>\n",
              "    <tr>\n",
              "      <th>19730</th>\n",
              "      <td>0.084112</td>\n",
              "      <td>0.926786</td>\n",
              "      <td>0.537657</td>\n",
              "      <td>0.711655</td>\n",
              "      <td>0.606309</td>\n",
              "      <td>0.830841</td>\n",
              "      <td>0.579374</td>\n",
              "      <td>0.864865</td>\n",
              "      <td>0.765258</td>\n",
              "      <td>0.752031</td>\n",
              "      <td>...</td>\n",
              "      <td>0.864724</td>\n",
              "      <td>0.729443</td>\n",
              "      <td>0.891747</td>\n",
              "      <td>0.602326</td>\n",
              "      <td>0.416667</td>\n",
              "      <td>0.238095</td>\n",
              "      <td>0.348718</td>\n",
              "      <td>0.901961</td>\n",
              "      <td>0.861981</td>\n",
              "      <td>0.861981</td>\n",
              "    </tr>\n",
              "    <tr>\n",
              "      <th>19731</th>\n",
              "      <td>0.074766</td>\n",
              "      <td>0.919747</td>\n",
              "      <td>0.536006</td>\n",
              "      <td>0.701769</td>\n",
              "      <td>0.607836</td>\n",
              "      <td>0.825302</td>\n",
              "      <td>0.582178</td>\n",
              "      <td>0.864865</td>\n",
              "      <td>0.765258</td>\n",
              "      <td>0.754897</td>\n",
              "      <td>...</td>\n",
              "      <td>0.864724</td>\n",
              "      <td>0.729443</td>\n",
              "      <td>0.887460</td>\n",
              "      <td>0.602326</td>\n",
              "      <td>0.421053</td>\n",
              "      <td>0.250000</td>\n",
              "      <td>0.361538</td>\n",
              "      <td>0.900452</td>\n",
              "      <td>0.985726</td>\n",
              "      <td>0.985726</td>\n",
              "    </tr>\n",
              "    <tr>\n",
              "      <th>19732</th>\n",
              "      <td>0.242991</td>\n",
              "      <td>0.919747</td>\n",
              "      <td>0.538666</td>\n",
              "      <td>0.692651</td>\n",
              "      <td>0.627198</td>\n",
              "      <td>0.818378</td>\n",
              "      <td>0.603988</td>\n",
              "      <td>0.864865</td>\n",
              "      <td>0.771233</td>\n",
              "      <td>0.754897</td>\n",
              "      <td>...</td>\n",
              "      <td>0.864724</td>\n",
              "      <td>0.729443</td>\n",
              "      <td>0.883173</td>\n",
              "      <td>0.602326</td>\n",
              "      <td>0.425439</td>\n",
              "      <td>0.261905</td>\n",
              "      <td>0.374359</td>\n",
              "      <td>0.898944</td>\n",
              "      <td>0.583979</td>\n",
              "      <td>0.583979</td>\n",
              "    </tr>\n",
              "    <tr>\n",
              "      <th>19733</th>\n",
              "      <td>0.383178</td>\n",
              "      <td>0.919747</td>\n",
              "      <td>0.549491</td>\n",
              "      <td>0.677054</td>\n",
              "      <td>0.634717</td>\n",
              "      <td>0.805085</td>\n",
              "      <td>0.585294</td>\n",
              "      <td>0.864865</td>\n",
              "      <td>0.773794</td>\n",
              "      <td>0.752031</td>\n",
              "      <td>...</td>\n",
              "      <td>0.864724</td>\n",
              "      <td>0.730581</td>\n",
              "      <td>0.878885</td>\n",
              "      <td>0.602326</td>\n",
              "      <td>0.429825</td>\n",
              "      <td>0.273810</td>\n",
              "      <td>0.387179</td>\n",
              "      <td>0.897436</td>\n",
              "      <td>0.126371</td>\n",
              "      <td>0.126371</td>\n",
              "    </tr>\n",
              "    <tr>\n",
              "      <th>19734</th>\n",
              "      <td>0.392523</td>\n",
              "      <td>0.919747</td>\n",
              "      <td>0.538758</td>\n",
              "      <td>0.666171</td>\n",
              "      <td>0.632902</td>\n",
              "      <td>0.799546</td>\n",
              "      <td>0.579062</td>\n",
              "      <td>0.864865</td>\n",
              "      <td>0.781192</td>\n",
              "      <td>0.752031</td>\n",
              "      <td>...</td>\n",
              "      <td>0.864724</td>\n",
              "      <td>0.731719</td>\n",
              "      <td>0.874598</td>\n",
              "      <td>0.602326</td>\n",
              "      <td>0.434211</td>\n",
              "      <td>0.285714</td>\n",
              "      <td>0.400000</td>\n",
              "      <td>0.895928</td>\n",
              "      <td>0.682391</td>\n",
              "      <td>0.682391</td>\n",
              "    </tr>\n",
              "  </tbody>\n",
              "</table>\n",
              "<p>19735 rows × 27 columns</p>\n",
              "</div>"
            ],
            "text/plain": [
              "       Appliances        T1      RH_1        T2      RH_2        T3      RH_3  \\\n",
              "0        0.046729  0.327350  0.566187  0.225345  0.684038  0.215188  0.746066   \n",
              "1        0.046729  0.327350  0.541326  0.225345  0.682140  0.215188  0.748871   \n",
              "2        0.037383  0.327350  0.530502  0.225345  0.679445  0.215188  0.755569   \n",
              "3        0.037383  0.327350  0.524080  0.225345  0.678414  0.215188  0.758685   \n",
              "4        0.046729  0.327350  0.531419  0.225345  0.676727  0.215188  0.758685   \n",
              "...           ...       ...       ...       ...       ...       ...       ...   \n",
              "19730    0.084112  0.926786  0.537657  0.711655  0.606309  0.830841  0.579374   \n",
              "19731    0.074766  0.919747  0.536006  0.701769  0.607836  0.825302  0.582178   \n",
              "19732    0.242991  0.919747  0.538666  0.692651  0.627198  0.818378  0.603988   \n",
              "19733    0.383178  0.919747  0.549491  0.677054  0.634717  0.805085  0.585294   \n",
              "19734    0.392523  0.919747  0.538758  0.666171  0.632902  0.799546  0.579062   \n",
              "\n",
              "             T4      RH_4        T5  ...        T9      RH_9     T_out  \\\n",
              "0      0.351351  0.764262  0.175506  ...  0.223032  0.677290  0.372990   \n",
              "1      0.351351  0.782437  0.175506  ...  0.226500  0.678532  0.369239   \n",
              "2      0.344745  0.778062  0.175506  ...  0.219563  0.676049  0.365488   \n",
              "3      0.341441  0.770949  0.175506  ...  0.219563  0.671909  0.361736   \n",
              "4      0.341441  0.762697  0.178691  ...  0.219563  0.671909  0.357985   \n",
              "...         ...       ...       ...  ...       ...       ...       ...   \n",
              "19730  0.864865  0.765258  0.752031  ...  0.864724  0.729443  0.891747   \n",
              "19731  0.864865  0.765258  0.754897  ...  0.864724  0.729443  0.887460   \n",
              "19732  0.864865  0.771233  0.754897  ...  0.864724  0.729443  0.883173   \n",
              "19733  0.864865  0.773794  0.752031  ...  0.864724  0.730581  0.878885   \n",
              "19734  0.864865  0.781192  0.752031  ...  0.864724  0.731719  0.874598   \n",
              "\n",
              "       Press_mm_hg    RH_out  Windspeed  Visibility  Tdewpoint       rv1  \\\n",
              "0         0.097674  0.894737   0.500000    0.953846   0.538462  0.265449   \n",
              "1         0.100000  0.894737   0.476190    0.894872   0.533937  0.372083   \n",
              "2         0.102326  0.894737   0.452381    0.835897   0.529412  0.572848   \n",
              "3         0.104651  0.894737   0.428571    0.776923   0.524887  0.908261   \n",
              "4         0.106977  0.894737   0.404762    0.717949   0.520362  0.201611   \n",
              "...            ...       ...        ...         ...        ...       ...   \n",
              "19730     0.602326  0.416667   0.238095    0.348718   0.901961  0.861981   \n",
              "19731     0.602326  0.421053   0.250000    0.361538   0.900452  0.985726   \n",
              "19732     0.602326  0.425439   0.261905    0.374359   0.898944  0.583979   \n",
              "19733     0.602326  0.429825   0.273810    0.387179   0.897436  0.126371   \n",
              "19734     0.602326  0.434211   0.285714    0.400000   0.895928  0.682391   \n",
              "\n",
              "            rv2  \n",
              "0      0.265449  \n",
              "1      0.372083  \n",
              "2      0.572848  \n",
              "3      0.908261  \n",
              "4      0.201611  \n",
              "...         ...  \n",
              "19730  0.861981  \n",
              "19731  0.985726  \n",
              "19732  0.583979  \n",
              "19733  0.126371  \n",
              "19734  0.682391  \n",
              "\n",
              "[19735 rows x 27 columns]"
            ]
          },
          "execution_count": 49,
          "metadata": {},
          "output_type": "execute_result"
        }
      ],
      "source": [
        "normalised_df"
      ]
    },
    {
      "cell_type": "code",
      "execution_count": null,
      "id": "18d28c82",
      "metadata": {
        "id": "18d28c82"
      },
      "outputs": [],
      "source": [
        "target = normalised_df['Appliances']"
      ]
    },
    {
      "cell_type": "code",
      "execution_count": null,
      "id": "a172c74c",
      "metadata": {
        "id": "a172c74c"
      },
      "outputs": [],
      "source": [
        "features_df = normalised_df.drop(columns=['Appliances'])"
      ]
    },
    {
      "cell_type": "code",
      "execution_count": null,
      "id": "bf590e86",
      "metadata": {
        "id": "bf590e86",
        "outputId": "f17062bd-4185-4fae-dd33-8682c8372d89"
      },
      "outputs": [
        {
          "data": {
            "text/plain": [
              "0        0.046729\n",
              "1        0.046729\n",
              "2        0.037383\n",
              "3        0.037383\n",
              "4        0.046729\n",
              "           ...   \n",
              "19730    0.084112\n",
              "19731    0.074766\n",
              "19732    0.242991\n",
              "19733    0.383178\n",
              "19734    0.392523\n",
              "Name: Appliances, Length: 19735, dtype: float64"
            ]
          },
          "execution_count": 52,
          "metadata": {},
          "output_type": "execute_result"
        }
      ],
      "source": [
        "target"
      ]
    },
    {
      "cell_type": "code",
      "execution_count": null,
      "id": "a3d20231",
      "metadata": {
        "id": "a3d20231",
        "outputId": "1cd5f0a4-8f80-466c-943d-8958084c86f3"
      },
      "outputs": [
        {
          "data": {
            "text/html": [
              "<div>\n",
              "<style scoped>\n",
              "    .dataframe tbody tr th:only-of-type {\n",
              "        vertical-align: middle;\n",
              "    }\n",
              "\n",
              "    .dataframe tbody tr th {\n",
              "        vertical-align: top;\n",
              "    }\n",
              "\n",
              "    .dataframe thead th {\n",
              "        text-align: right;\n",
              "    }\n",
              "</style>\n",
              "<table border=\"1\" class=\"dataframe\">\n",
              "  <thead>\n",
              "    <tr style=\"text-align: right;\">\n",
              "      <th></th>\n",
              "      <th>T1</th>\n",
              "      <th>RH_1</th>\n",
              "      <th>T2</th>\n",
              "      <th>RH_2</th>\n",
              "      <th>T3</th>\n",
              "      <th>RH_3</th>\n",
              "      <th>T4</th>\n",
              "      <th>RH_4</th>\n",
              "      <th>T5</th>\n",
              "      <th>RH_5</th>\n",
              "      <th>...</th>\n",
              "      <th>T9</th>\n",
              "      <th>RH_9</th>\n",
              "      <th>T_out</th>\n",
              "      <th>Press_mm_hg</th>\n",
              "      <th>RH_out</th>\n",
              "      <th>Windspeed</th>\n",
              "      <th>Visibility</th>\n",
              "      <th>Tdewpoint</th>\n",
              "      <th>rv1</th>\n",
              "      <th>rv2</th>\n",
              "    </tr>\n",
              "  </thead>\n",
              "  <tbody>\n",
              "    <tr>\n",
              "      <th>0</th>\n",
              "      <td>0.327350</td>\n",
              "      <td>0.566187</td>\n",
              "      <td>0.225345</td>\n",
              "      <td>0.684038</td>\n",
              "      <td>0.215188</td>\n",
              "      <td>0.746066</td>\n",
              "      <td>0.351351</td>\n",
              "      <td>0.764262</td>\n",
              "      <td>0.175506</td>\n",
              "      <td>0.381691</td>\n",
              "      <td>...</td>\n",
              "      <td>0.223032</td>\n",
              "      <td>0.677290</td>\n",
              "      <td>0.372990</td>\n",
              "      <td>0.097674</td>\n",
              "      <td>0.894737</td>\n",
              "      <td>0.500000</td>\n",
              "      <td>0.953846</td>\n",
              "      <td>0.538462</td>\n",
              "      <td>0.265449</td>\n",
              "      <td>0.265449</td>\n",
              "    </tr>\n",
              "    <tr>\n",
              "      <th>1</th>\n",
              "      <td>0.327350</td>\n",
              "      <td>0.541326</td>\n",
              "      <td>0.225345</td>\n",
              "      <td>0.682140</td>\n",
              "      <td>0.215188</td>\n",
              "      <td>0.748871</td>\n",
              "      <td>0.351351</td>\n",
              "      <td>0.782437</td>\n",
              "      <td>0.175506</td>\n",
              "      <td>0.381691</td>\n",
              "      <td>...</td>\n",
              "      <td>0.226500</td>\n",
              "      <td>0.678532</td>\n",
              "      <td>0.369239</td>\n",
              "      <td>0.100000</td>\n",
              "      <td>0.894737</td>\n",
              "      <td>0.476190</td>\n",
              "      <td>0.894872</td>\n",
              "      <td>0.533937</td>\n",
              "      <td>0.372083</td>\n",
              "      <td>0.372083</td>\n",
              "    </tr>\n",
              "    <tr>\n",
              "      <th>2</th>\n",
              "      <td>0.327350</td>\n",
              "      <td>0.530502</td>\n",
              "      <td>0.225345</td>\n",
              "      <td>0.679445</td>\n",
              "      <td>0.215188</td>\n",
              "      <td>0.755569</td>\n",
              "      <td>0.344745</td>\n",
              "      <td>0.778062</td>\n",
              "      <td>0.175506</td>\n",
              "      <td>0.380037</td>\n",
              "      <td>...</td>\n",
              "      <td>0.219563</td>\n",
              "      <td>0.676049</td>\n",
              "      <td>0.365488</td>\n",
              "      <td>0.102326</td>\n",
              "      <td>0.894737</td>\n",
              "      <td>0.452381</td>\n",
              "      <td>0.835897</td>\n",
              "      <td>0.529412</td>\n",
              "      <td>0.572848</td>\n",
              "      <td>0.572848</td>\n",
              "    </tr>\n",
              "    <tr>\n",
              "      <th>3</th>\n",
              "      <td>0.327350</td>\n",
              "      <td>0.524080</td>\n",
              "      <td>0.225345</td>\n",
              "      <td>0.678414</td>\n",
              "      <td>0.215188</td>\n",
              "      <td>0.758685</td>\n",
              "      <td>0.341441</td>\n",
              "      <td>0.770949</td>\n",
              "      <td>0.175506</td>\n",
              "      <td>0.380037</td>\n",
              "      <td>...</td>\n",
              "      <td>0.219563</td>\n",
              "      <td>0.671909</td>\n",
              "      <td>0.361736</td>\n",
              "      <td>0.104651</td>\n",
              "      <td>0.894737</td>\n",
              "      <td>0.428571</td>\n",
              "      <td>0.776923</td>\n",
              "      <td>0.524887</td>\n",
              "      <td>0.908261</td>\n",
              "      <td>0.908261</td>\n",
              "    </tr>\n",
              "    <tr>\n",
              "      <th>4</th>\n",
              "      <td>0.327350</td>\n",
              "      <td>0.531419</td>\n",
              "      <td>0.225345</td>\n",
              "      <td>0.676727</td>\n",
              "      <td>0.215188</td>\n",
              "      <td>0.758685</td>\n",
              "      <td>0.341441</td>\n",
              "      <td>0.762697</td>\n",
              "      <td>0.178691</td>\n",
              "      <td>0.380037</td>\n",
              "      <td>...</td>\n",
              "      <td>0.219563</td>\n",
              "      <td>0.671909</td>\n",
              "      <td>0.357985</td>\n",
              "      <td>0.106977</td>\n",
              "      <td>0.894737</td>\n",
              "      <td>0.404762</td>\n",
              "      <td>0.717949</td>\n",
              "      <td>0.520362</td>\n",
              "      <td>0.201611</td>\n",
              "      <td>0.201611</td>\n",
              "    </tr>\n",
              "    <tr>\n",
              "      <th>...</th>\n",
              "      <td>...</td>\n",
              "      <td>...</td>\n",
              "      <td>...</td>\n",
              "      <td>...</td>\n",
              "      <td>...</td>\n",
              "      <td>...</td>\n",
              "      <td>...</td>\n",
              "      <td>...</td>\n",
              "      <td>...</td>\n",
              "      <td>...</td>\n",
              "      <td>...</td>\n",
              "      <td>...</td>\n",
              "      <td>...</td>\n",
              "      <td>...</td>\n",
              "      <td>...</td>\n",
              "      <td>...</td>\n",
              "      <td>...</td>\n",
              "      <td>...</td>\n",
              "      <td>...</td>\n",
              "      <td>...</td>\n",
              "      <td>...</td>\n",
              "    </tr>\n",
              "    <tr>\n",
              "      <th>19730</th>\n",
              "      <td>0.926786</td>\n",
              "      <td>0.537657</td>\n",
              "      <td>0.711655</td>\n",
              "      <td>0.606309</td>\n",
              "      <td>0.830841</td>\n",
              "      <td>0.579374</td>\n",
              "      <td>0.864865</td>\n",
              "      <td>0.765258</td>\n",
              "      <td>0.752031</td>\n",
              "      <td>0.339590</td>\n",
              "      <td>...</td>\n",
              "      <td>0.864724</td>\n",
              "      <td>0.729443</td>\n",
              "      <td>0.891747</td>\n",
              "      <td>0.602326</td>\n",
              "      <td>0.416667</td>\n",
              "      <td>0.238095</td>\n",
              "      <td>0.348718</td>\n",
              "      <td>0.901961</td>\n",
              "      <td>0.861981</td>\n",
              "      <td>0.861981</td>\n",
              "    </tr>\n",
              "    <tr>\n",
              "      <th>19731</th>\n",
              "      <td>0.919747</td>\n",
              "      <td>0.536006</td>\n",
              "      <td>0.701769</td>\n",
              "      <td>0.607836</td>\n",
              "      <td>0.825302</td>\n",
              "      <td>0.582178</td>\n",
              "      <td>0.864865</td>\n",
              "      <td>0.765258</td>\n",
              "      <td>0.754897</td>\n",
              "      <td>0.338487</td>\n",
              "      <td>...</td>\n",
              "      <td>0.864724</td>\n",
              "      <td>0.729443</td>\n",
              "      <td>0.887460</td>\n",
              "      <td>0.602326</td>\n",
              "      <td>0.421053</td>\n",
              "      <td>0.250000</td>\n",
              "      <td>0.361538</td>\n",
              "      <td>0.900452</td>\n",
              "      <td>0.985726</td>\n",
              "      <td>0.985726</td>\n",
              "    </tr>\n",
              "    <tr>\n",
              "      <th>19732</th>\n",
              "      <td>0.919747</td>\n",
              "      <td>0.538666</td>\n",
              "      <td>0.692651</td>\n",
              "      <td>0.627198</td>\n",
              "      <td>0.818378</td>\n",
              "      <td>0.603988</td>\n",
              "      <td>0.864865</td>\n",
              "      <td>0.771233</td>\n",
              "      <td>0.754897</td>\n",
              "      <td>0.337585</td>\n",
              "      <td>...</td>\n",
              "      <td>0.864724</td>\n",
              "      <td>0.729443</td>\n",
              "      <td>0.883173</td>\n",
              "      <td>0.602326</td>\n",
              "      <td>0.425439</td>\n",
              "      <td>0.261905</td>\n",
              "      <td>0.374359</td>\n",
              "      <td>0.898944</td>\n",
              "      <td>0.583979</td>\n",
              "      <td>0.583979</td>\n",
              "    </tr>\n",
              "    <tr>\n",
              "      <th>19733</th>\n",
              "      <td>0.919747</td>\n",
              "      <td>0.549491</td>\n",
              "      <td>0.677054</td>\n",
              "      <td>0.634717</td>\n",
              "      <td>0.805085</td>\n",
              "      <td>0.585294</td>\n",
              "      <td>0.864865</td>\n",
              "      <td>0.773794</td>\n",
              "      <td>0.752031</td>\n",
              "      <td>0.336583</td>\n",
              "      <td>...</td>\n",
              "      <td>0.864724</td>\n",
              "      <td>0.730581</td>\n",
              "      <td>0.878885</td>\n",
              "      <td>0.602326</td>\n",
              "      <td>0.429825</td>\n",
              "      <td>0.273810</td>\n",
              "      <td>0.387179</td>\n",
              "      <td>0.897436</td>\n",
              "      <td>0.126371</td>\n",
              "      <td>0.126371</td>\n",
              "    </tr>\n",
              "    <tr>\n",
              "      <th>19734</th>\n",
              "      <td>0.919747</td>\n",
              "      <td>0.538758</td>\n",
              "      <td>0.666171</td>\n",
              "      <td>0.632902</td>\n",
              "      <td>0.799546</td>\n",
              "      <td>0.579062</td>\n",
              "      <td>0.864865</td>\n",
              "      <td>0.781192</td>\n",
              "      <td>0.752031</td>\n",
              "      <td>0.336583</td>\n",
              "      <td>...</td>\n",
              "      <td>0.864724</td>\n",
              "      <td>0.731719</td>\n",
              "      <td>0.874598</td>\n",
              "      <td>0.602326</td>\n",
              "      <td>0.434211</td>\n",
              "      <td>0.285714</td>\n",
              "      <td>0.400000</td>\n",
              "      <td>0.895928</td>\n",
              "      <td>0.682391</td>\n",
              "      <td>0.682391</td>\n",
              "    </tr>\n",
              "  </tbody>\n",
              "</table>\n",
              "<p>19735 rows × 26 columns</p>\n",
              "</div>"
            ],
            "text/plain": [
              "             T1      RH_1        T2      RH_2        T3      RH_3        T4  \\\n",
              "0      0.327350  0.566187  0.225345  0.684038  0.215188  0.746066  0.351351   \n",
              "1      0.327350  0.541326  0.225345  0.682140  0.215188  0.748871  0.351351   \n",
              "2      0.327350  0.530502  0.225345  0.679445  0.215188  0.755569  0.344745   \n",
              "3      0.327350  0.524080  0.225345  0.678414  0.215188  0.758685  0.341441   \n",
              "4      0.327350  0.531419  0.225345  0.676727  0.215188  0.758685  0.341441   \n",
              "...         ...       ...       ...       ...       ...       ...       ...   \n",
              "19730  0.926786  0.537657  0.711655  0.606309  0.830841  0.579374  0.864865   \n",
              "19731  0.919747  0.536006  0.701769  0.607836  0.825302  0.582178  0.864865   \n",
              "19732  0.919747  0.538666  0.692651  0.627198  0.818378  0.603988  0.864865   \n",
              "19733  0.919747  0.549491  0.677054  0.634717  0.805085  0.585294  0.864865   \n",
              "19734  0.919747  0.538758  0.666171  0.632902  0.799546  0.579062  0.864865   \n",
              "\n",
              "           RH_4        T5      RH_5  ...        T9      RH_9     T_out  \\\n",
              "0      0.764262  0.175506  0.381691  ...  0.223032  0.677290  0.372990   \n",
              "1      0.782437  0.175506  0.381691  ...  0.226500  0.678532  0.369239   \n",
              "2      0.778062  0.175506  0.380037  ...  0.219563  0.676049  0.365488   \n",
              "3      0.770949  0.175506  0.380037  ...  0.219563  0.671909  0.361736   \n",
              "4      0.762697  0.178691  0.380037  ...  0.219563  0.671909  0.357985   \n",
              "...         ...       ...       ...  ...       ...       ...       ...   \n",
              "19730  0.765258  0.752031  0.339590  ...  0.864724  0.729443  0.891747   \n",
              "19731  0.765258  0.754897  0.338487  ...  0.864724  0.729443  0.887460   \n",
              "19732  0.771233  0.754897  0.337585  ...  0.864724  0.729443  0.883173   \n",
              "19733  0.773794  0.752031  0.336583  ...  0.864724  0.730581  0.878885   \n",
              "19734  0.781192  0.752031  0.336583  ...  0.864724  0.731719  0.874598   \n",
              "\n",
              "       Press_mm_hg    RH_out  Windspeed  Visibility  Tdewpoint       rv1  \\\n",
              "0         0.097674  0.894737   0.500000    0.953846   0.538462  0.265449   \n",
              "1         0.100000  0.894737   0.476190    0.894872   0.533937  0.372083   \n",
              "2         0.102326  0.894737   0.452381    0.835897   0.529412  0.572848   \n",
              "3         0.104651  0.894737   0.428571    0.776923   0.524887  0.908261   \n",
              "4         0.106977  0.894737   0.404762    0.717949   0.520362  0.201611   \n",
              "...            ...       ...        ...         ...        ...       ...   \n",
              "19730     0.602326  0.416667   0.238095    0.348718   0.901961  0.861981   \n",
              "19731     0.602326  0.421053   0.250000    0.361538   0.900452  0.985726   \n",
              "19732     0.602326  0.425439   0.261905    0.374359   0.898944  0.583979   \n",
              "19733     0.602326  0.429825   0.273810    0.387179   0.897436  0.126371   \n",
              "19734     0.602326  0.434211   0.285714    0.400000   0.895928  0.682391   \n",
              "\n",
              "            rv2  \n",
              "0      0.265449  \n",
              "1      0.372083  \n",
              "2      0.572848  \n",
              "3      0.908261  \n",
              "4      0.201611  \n",
              "...         ...  \n",
              "19730  0.861981  \n",
              "19731  0.985726  \n",
              "19732  0.583979  \n",
              "19733  0.126371  \n",
              "19734  0.682391  \n",
              "\n",
              "[19735 rows x 26 columns]"
            ]
          },
          "execution_count": 53,
          "metadata": {},
          "output_type": "execute_result"
        }
      ],
      "source": [
        "features_df"
      ]
    },
    {
      "cell_type": "code",
      "execution_count": null,
      "id": "2f9f8361",
      "metadata": {
        "id": "2f9f8361"
      },
      "outputs": [],
      "source": [
        "#spliting the data\n",
        "from sklearn.model_selection import train_test_split\n",
        "x_train, x_test, y_train, y_test = train_test_split(features_df,target, test_size = 0.3, random_state=42)"
      ]
    },
    {
      "cell_type": "code",
      "execution_count": null,
      "id": "c15d5052",
      "metadata": {
        "id": "c15d5052"
      },
      "outputs": [],
      "source": [
        "#importing LinearRegression\n",
        "from sklearn.linear_model import LinearRegression\n",
        "\n",
        "linear_model = LinearRegression()"
      ]
    },
    {
      "cell_type": "code",
      "execution_count": null,
      "id": "12b2a326",
      "metadata": {
        "id": "12b2a326",
        "outputId": "622cd44d-17b8-4e8f-c99a-8c26c111e69d"
      },
      "outputs": [
        {
          "data": {
            "text/plain": [
              "LinearRegression()"
            ]
          },
          "execution_count": 121,
          "metadata": {},
          "output_type": "execute_result"
        }
      ],
      "source": [
        "#training the dataset\n",
        "linear_model.fit(x_train, y_train)"
      ]
    },
    {
      "cell_type": "code",
      "execution_count": null,
      "id": "d1e24479",
      "metadata": {
        "id": "d1e24479"
      },
      "outputs": [],
      "source": [
        "#predicting values of y\n",
        "predicted_values = linear_model.predict(x_test)"
      ]
    },
    {
      "cell_type": "code",
      "execution_count": null,
      "id": "a53f55f6",
      "metadata": {
        "id": "a53f55f6",
        "outputId": "54c6c761-7f31-43df-f5cc-ecdf4a828de6"
      },
      "outputs": [
        {
          "data": {
            "text/plain": [
              "0.05"
            ]
          },
          "execution_count": 123,
          "metadata": {},
          "output_type": "execute_result"
        }
      ],
      "source": [
        "#Mean AbsolUTE eRROR (MAE)\n",
        "\n",
        "from sklearn.metrics import mean_absolute_error\n",
        "mae = mean_absolute_error(y_test, predicted_values)\n",
        "round(mae,2)"
      ]
    },
    {
      "cell_type": "code",
      "execution_count": null,
      "id": "e63acc23",
      "metadata": {
        "id": "e63acc23",
        "outputId": "afc37f48-d534-4b31-80c7-5d8dc5125081"
      },
      "outputs": [
        {
          "data": {
            "text/plain": [
              "45.34"
            ]
          },
          "execution_count": 124,
          "metadata": {},
          "output_type": "execute_result"
        }
      ],
      "source": [
        "#RSS\n",
        "\n",
        "RSS = np.sum(np.square(y_test - predicted_values))\n",
        "round(RSS,2)"
      ]
    },
    {
      "cell_type": "code",
      "execution_count": null,
      "id": "587abd80",
      "metadata": {
        "id": "587abd80",
        "outputId": "2a2e2e1e-9278-400e-f3cb-42e34147bf0c"
      },
      "outputs": [
        {
          "data": {
            "text/plain": [
              "0.09"
            ]
          },
          "execution_count": 125,
          "metadata": {},
          "output_type": "execute_result"
        }
      ],
      "source": [
        "from sklearn.metrics import mean_squared_error\n",
        "\n",
        "#ROOT MEAN SQUARED ERROR\n",
        "rmse = np.sqrt(mean_squared_error(y_test, predicted_values))\n",
        "round(rmse,2)"
      ]
    },
    {
      "cell_type": "code",
      "execution_count": null,
      "id": "51d96308",
      "metadata": {
        "id": "51d96308",
        "outputId": "6d29f110-2da9-438f-cb54-aca620d32a96"
      },
      "outputs": [
        {
          "data": {
            "text/plain": [
              "0.15"
            ]
          },
          "execution_count": 126,
          "metadata": {},
          "output_type": "execute_result"
        }
      ],
      "source": [
        "from sklearn.metrics import r2_score\n",
        "\n",
        "r_square = r2_score(y_test, predicted_values)\n",
        "round(r_square, 2)"
      ]
    },
    {
      "cell_type": "code",
      "execution_count": null,
      "id": "bf8fd6a5",
      "metadata": {
        "id": "bf8fd6a5"
      },
      "outputs": [],
      "source": [
        "weights = pd.Series(linear_model.coef_, x_train.columns).sort_values()\n",
        "weights = pd.DataFrame(weights).reset_index()\n"
      ]
    },
    {
      "cell_type": "code",
      "execution_count": null,
      "id": "e3627439",
      "metadata": {
        "id": "e3627439",
        "outputId": "4dca4410-4ed9-4189-d59d-24efc855655c"
      },
      "outputs": [
        {
          "data": {
            "text/html": [
              "<div>\n",
              "<style scoped>\n",
              "    .dataframe tbody tr th:only-of-type {\n",
              "        vertical-align: middle;\n",
              "    }\n",
              "\n",
              "    .dataframe tbody tr th {\n",
              "        vertical-align: top;\n",
              "    }\n",
              "\n",
              "    .dataframe thead th {\n",
              "        text-align: right;\n",
              "    }\n",
              "</style>\n",
              "<table border=\"1\" class=\"dataframe\">\n",
              "  <thead>\n",
              "    <tr style=\"text-align: right;\">\n",
              "      <th></th>\n",
              "      <th>index</th>\n",
              "      <th>0</th>\n",
              "    </tr>\n",
              "  </thead>\n",
              "  <tbody>\n",
              "    <tr>\n",
              "      <th>0</th>\n",
              "      <td>rv1</td>\n",
              "      <td>-3.022856e+11</td>\n",
              "    </tr>\n",
              "    <tr>\n",
              "      <th>1</th>\n",
              "      <td>RH_2</td>\n",
              "      <td>-4.565423e-01</td>\n",
              "    </tr>\n",
              "    <tr>\n",
              "      <th>2</th>\n",
              "      <td>T_out</td>\n",
              "      <td>-3.216544e-01</td>\n",
              "    </tr>\n",
              "    <tr>\n",
              "      <th>3</th>\n",
              "      <td>T2</td>\n",
              "      <td>-2.360091e-01</td>\n",
              "    </tr>\n",
              "    <tr>\n",
              "      <th>4</th>\n",
              "      <td>T9</td>\n",
              "      <td>-1.898187e-01</td>\n",
              "    </tr>\n",
              "    <tr>\n",
              "      <th>5</th>\n",
              "      <td>RH_8</td>\n",
              "      <td>-1.575253e-01</td>\n",
              "    </tr>\n",
              "    <tr>\n",
              "      <th>6</th>\n",
              "      <td>RH_out</td>\n",
              "      <td>-7.756698e-02</td>\n",
              "    </tr>\n",
              "    <tr>\n",
              "      <th>7</th>\n",
              "      <td>RH_7</td>\n",
              "      <td>-4.466305e-02</td>\n",
              "    </tr>\n",
              "    <tr>\n",
              "      <th>8</th>\n",
              "      <td>RH_9</td>\n",
              "      <td>-3.985639e-02</td>\n",
              "    </tr>\n",
              "    <tr>\n",
              "      <th>9</th>\n",
              "      <td>T5</td>\n",
              "      <td>-1.584368e-02</td>\n",
              "    </tr>\n",
              "    <tr>\n",
              "      <th>10</th>\n",
              "      <td>T1</td>\n",
              "      <td>-3.281051e-03</td>\n",
              "    </tr>\n",
              "    <tr>\n",
              "      <th>11</th>\n",
              "      <td>Press_mm_hg</td>\n",
              "      <td>6.818144e-03</td>\n",
              "    </tr>\n",
              "    <tr>\n",
              "      <th>12</th>\n",
              "      <td>T7</td>\n",
              "      <td>1.032840e-02</td>\n",
              "    </tr>\n",
              "    <tr>\n",
              "      <th>13</th>\n",
              "      <td>Visibility</td>\n",
              "      <td>1.230043e-02</td>\n",
              "    </tr>\n",
              "    <tr>\n",
              "      <th>14</th>\n",
              "      <td>RH_5</td>\n",
              "      <td>1.598628e-02</td>\n",
              "    </tr>\n",
              "    <tr>\n",
              "      <th>15</th>\n",
              "      <td>RH_4</td>\n",
              "      <td>2.640965e-02</td>\n",
              "    </tr>\n",
              "    <tr>\n",
              "      <th>16</th>\n",
              "      <td>T4</td>\n",
              "      <td>2.900353e-02</td>\n",
              "    </tr>\n",
              "    <tr>\n",
              "      <th>17</th>\n",
              "      <td>Windspeed</td>\n",
              "      <td>2.915808e-02</td>\n",
              "    </tr>\n",
              "    <tr>\n",
              "      <th>18</th>\n",
              "      <td>RH_6</td>\n",
              "      <td>3.806797e-02</td>\n",
              "    </tr>\n",
              "    <tr>\n",
              "      <th>19</th>\n",
              "      <td>RH_3</td>\n",
              "      <td>9.600293e-02</td>\n",
              "    </tr>\n",
              "    <tr>\n",
              "      <th>20</th>\n",
              "      <td>T8</td>\n",
              "      <td>1.019727e-01</td>\n",
              "    </tr>\n",
              "    <tr>\n",
              "      <th>21</th>\n",
              "      <td>Tdewpoint</td>\n",
              "      <td>1.176157e-01</td>\n",
              "    </tr>\n",
              "    <tr>\n",
              "      <th>22</th>\n",
              "      <td>T6</td>\n",
              "      <td>2.364003e-01</td>\n",
              "    </tr>\n",
              "    <tr>\n",
              "      <th>23</th>\n",
              "      <td>T3</td>\n",
              "      <td>2.905467e-01</td>\n",
              "    </tr>\n",
              "    <tr>\n",
              "      <th>24</th>\n",
              "      <td>RH_1</td>\n",
              "      <td>5.535282e-01</td>\n",
              "    </tr>\n",
              "    <tr>\n",
              "      <th>25</th>\n",
              "      <td>rv2</td>\n",
              "      <td>3.022856e+11</td>\n",
              "    </tr>\n",
              "  </tbody>\n",
              "</table>\n",
              "</div>"
            ],
            "text/plain": [
              "          index             0\n",
              "0           rv1 -3.022856e+11\n",
              "1          RH_2 -4.565423e-01\n",
              "2         T_out -3.216544e-01\n",
              "3            T2 -2.360091e-01\n",
              "4            T9 -1.898187e-01\n",
              "5          RH_8 -1.575253e-01\n",
              "6        RH_out -7.756698e-02\n",
              "7          RH_7 -4.466305e-02\n",
              "8          RH_9 -3.985639e-02\n",
              "9            T5 -1.584368e-02\n",
              "10           T1 -3.281051e-03\n",
              "11  Press_mm_hg  6.818144e-03\n",
              "12           T7  1.032840e-02\n",
              "13   Visibility  1.230043e-02\n",
              "14         RH_5  1.598628e-02\n",
              "15         RH_4  2.640965e-02\n",
              "16           T4  2.900353e-02\n",
              "17    Windspeed  2.915808e-02\n",
              "18         RH_6  3.806797e-02\n",
              "19         RH_3  9.600293e-02\n",
              "20           T8  1.019727e-01\n",
              "21    Tdewpoint  1.176157e-01\n",
              "22           T6  2.364003e-01\n",
              "23           T3  2.905467e-01\n",
              "24         RH_1  5.535282e-01\n",
              "25          rv2  3.022856e+11"
            ]
          },
          "execution_count": 142,
          "metadata": {},
          "output_type": "execute_result"
        }
      ],
      "source": [
        "weights.sort_values(0)"
      ]
    },
    {
      "cell_type": "code",
      "execution_count": null,
      "id": "881b96b4",
      "metadata": {
        "id": "881b96b4"
      },
      "outputs": [],
      "source": [
        "from sklearn.linear_model import Ridge\n",
        "\n",
        "ridge_reg = Ridge(alpha = 0.4)"
      ]
    },
    {
      "cell_type": "code",
      "execution_count": null,
      "id": "294a8160",
      "metadata": {
        "id": "294a8160",
        "outputId": "0bd8c390-ca4f-426d-8635-eae011461c6c"
      },
      "outputs": [
        {
          "data": {
            "text/plain": [
              "Ridge(alpha=0.4)"
            ]
          },
          "execution_count": 95,
          "metadata": {},
          "output_type": "execute_result"
        }
      ],
      "source": [
        "ridge_reg.fit(x_train, y_train)"
      ]
    },
    {
      "cell_type": "code",
      "execution_count": null,
      "id": "5c633eec",
      "metadata": {
        "id": "5c633eec"
      },
      "outputs": [],
      "source": [
        "ridge_values = ridge_reg.predict(x_test)"
      ]
    },
    {
      "cell_type": "code",
      "execution_count": null,
      "id": "4a4a63a6",
      "metadata": {
        "id": "4a4a63a6"
      },
      "outputs": [],
      "source": [
        "#ROOT MEAN SQUARED ERROR\n",
        "ridge_rmse = np.sqrt(mean_squared_error(y_test, ridge_values))"
      ]
    },
    {
      "cell_type": "code",
      "execution_count": null,
      "id": "0b6cd517",
      "metadata": {
        "id": "0b6cd517",
        "outputId": "f9e49704-9019-494e-ffa0-8f8b0d342140"
      },
      "outputs": [
        {
          "data": {
            "text/plain": [
              "0.09"
            ]
          },
          "execution_count": 98,
          "metadata": {},
          "output_type": "execute_result"
        }
      ],
      "source": [
        "round(ridge_rmse, 2)"
      ]
    },
    {
      "cell_type": "code",
      "execution_count": null,
      "id": "b08407e9",
      "metadata": {
        "id": "b08407e9"
      },
      "outputs": [],
      "source": [
        "from sklearn.linear_model import Lasso\n",
        "\n",
        "lasso_reg = Lasso(alpha = 0.001)"
      ]
    },
    {
      "cell_type": "code",
      "execution_count": null,
      "id": "275e443d",
      "metadata": {
        "id": "275e443d",
        "outputId": "856eb2a1-0969-427d-8b7e-f49447a928ba"
      },
      "outputs": [
        {
          "data": {
            "text/plain": [
              "Lasso(alpha=0.001)"
            ]
          },
          "execution_count": 100,
          "metadata": {},
          "output_type": "execute_result"
        }
      ],
      "source": [
        "lasso_reg.fit(x_train, y_train)"
      ]
    },
    {
      "cell_type": "code",
      "execution_count": null,
      "id": "42b63391",
      "metadata": {
        "id": "42b63391",
        "outputId": "64ede2cc-e3e3-407c-a5d1-a1f133133c6c"
      },
      "outputs": [
        {
          "data": {
            "text/plain": [
              "index    26\n",
              "0        26\n",
              "dtype: int64"
            ]
          },
          "execution_count": 106,
          "metadata": {},
          "output_type": "execute_result"
        }
      ],
      "source": [
        "weights = pd.Series(lasso_reg.coef_, x_train.columns)\n",
        "weights = pd.DataFrame(weights).reset_index()\n",
        "weights[weights['index'] != 0].count()"
      ]
    },
    {
      "cell_type": "code",
      "execution_count": null,
      "id": "b5c2f59d",
      "metadata": {
        "id": "b5c2f59d"
      },
      "outputs": [],
      "source": [
        "lasso_values = lasso_reg.predict(x_test)"
      ]
    },
    {
      "cell_type": "code",
      "execution_count": null,
      "id": "82ece7e5",
      "metadata": {
        "id": "82ece7e5",
        "outputId": "1b91f8bb-ab82-4221-dc58-880755eff170"
      },
      "outputs": [
        {
          "data": {
            "text/plain": [
              "0.094"
            ]
          },
          "execution_count": 108,
          "metadata": {},
          "output_type": "execute_result"
        }
      ],
      "source": [
        "#ROOT MEAN SQUARED ERROR\n",
        "lasso_rmse = np.sqrt(mean_squared_error(y_test, lasso_values))\n",
        "round(lasso_rmse,3)"
      ]
    },
    {
      "cell_type": "code",
      "execution_count": null,
      "id": "18e5139e",
      "metadata": {
        "id": "18e5139e"
      },
      "outputs": [],
      "source": [
        ""
      ]
    }
  ],
  "metadata": {
    "kernelspec": {
      "display_name": "Python 3",
      "language": "python",
      "name": "python3"
    },
    "language_info": {
      "codemirror_mode": {
        "name": "ipython",
        "version": 3
      },
      "file_extension": ".py",
      "mimetype": "text/x-python",
      "name": "python",
      "nbconvert_exporter": "python",
      "pygments_lexer": "ipython3",
      "version": "3.8.8"
    },
    "colab": {
      "name": "Copy of Machine Learning Regression Predicting Energy Efficiency of Buildings Assesment.ipynb",
      "provenance": [],
      "collapsed_sections": [],
      "include_colab_link": true
    }
  },
  "nbformat": 4,
  "nbformat_minor": 5
}